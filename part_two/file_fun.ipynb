{
 "cells": [
  {
   "cell_type": "code",
   "execution_count": 1,
   "id": "2c099db7-3b30-452f-a6e0-e2bb5270eada",
   "metadata": {},
   "outputs": [],
   "source": [
    "import os"
   ]
  },
  {
   "cell_type": "code",
   "execution_count": null,
   "id": "bf076f2e-07fc-4f74-bbea-9c288932f386",
   "metadata": {},
   "outputs": [],
   "source": []
  },
  {
   "cell_type": "code",
   "execution_count": 2,
   "id": "8036e19f-7595-4090-9e84-ab87bee9dc13",
   "metadata": {},
   "outputs": [],
   "source": [
    "def extract_code_and_extension(code):\n",
    "    parts = code.split('_')\n",
    "    if len(parts) == 3:\n",
    "        return f\"{parts[1]}.{parts[2]}\"\n",
    "    else:\n",
    "        print(f\"Invalid code format: {code}\")\n",
    "        return None "
   ]
  },
  {
   "cell_type": "code",
   "execution_count": 3,
   "id": "047ab398-49dd-448d-945e-2c299c77945f",
   "metadata": {},
   "outputs": [],
   "source": [
    "if not os.path.exists('expanded'):\n",
    "    os.makedirs('expanded')"
   ]
  },
  {
   "cell_type": "code",
   "execution_count": 4,
   "id": "7ebfca44-92b3-46ad-baa6-a847768c5012",
   "metadata": {},
   "outputs": [],
   "source": [
    "with open('codes.txt', 'r') as file:\n",
    "    for line in file:\n",
    "        code = line.strip()\n",
    "        extracted_code = extract_code_and_extension(code)\n",
    "        if extracted_code:\n",
    "            with open(f'expanded/{extracted_code}', 'w') as output_file:\n",
    "                output_file.write(code.split('_')[0])"
   ]
  }
 ],
 "metadata": {
  "kernelspec": {
   "display_name": "Python 3 (ipykernel)",
   "language": "python",
   "name": "python3"
  },
  "language_info": {
   "codemirror_mode": {
    "name": "ipython",
    "version": 3
   },
   "file_extension": ".py",
   "mimetype": "text/x-python",
   "name": "python",
   "nbconvert_exporter": "python",
   "pygments_lexer": "ipython3",
   "version": "3.11.5"
  }
 },
 "nbformat": 4,
 "nbformat_minor": 5
}
